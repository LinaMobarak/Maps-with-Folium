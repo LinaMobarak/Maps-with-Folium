{
  "nbformat": 4,
  "nbformat_minor": 0,
  "metadata": {
    "colab": {
      "provenance": [],
      "gpuType": "T4"
    },
    "kernelspec": {
      "name": "python3",
      "display_name": "Python 3"
    },
    "language_info": {
      "name": "python"
    },
    "accelerator": "GPU"
  },
  "cells": [
    {
      "cell_type": "code",
      "execution_count": 1,
      "metadata": {
        "id": "iUzECR1-hL3e"
      },
      "outputs": [],
      "source": [
        "#Import Libraries\n",
        "import pandas as pd\n",
        "import numpy as np"
      ]
    },
    {
      "cell_type": "code",
      "source": [
        "import folium"
      ],
      "metadata": {
        "id": "ZGJDnQ_wjZbo"
      },
      "execution_count": 2,
      "outputs": []
    },
    {
      "cell_type": "code",
      "source": [
        "map1=folium.Map()\n",
        "map1"
      ],
      "metadata": {
        "id": "Jtdk42fWjduD"
      },
      "execution_count": 8,
      "outputs": []
    },
    {
      "cell_type": "markdown",
      "source": [
        "###Go ahead. Try zooming in and out of the rendered map above.\n",
        "\n",
        "\n",
        "\n",
        "\n",
        "\n",
        "\n",
        "\n",
        "You can customize this default definition of the world map by specifying the centre of your map, and the initial zoom level.\n",
        "\n",
        "All locations on a map are defined by their respective Latitude and Longitude values. So you can create a map and pass in a center of Latitude and Longitude values of [0, 0].\n",
        "\n",
        "For a defined center, you can also define the initial zoom level into that location when the map is rendered. The higher the zoom level the more the map is zoomed into the center."
      ],
      "metadata": {
        "id": "rtGoD0vIjoFh"
      }
    },
    {
      "cell_type": "code",
      "source": [
        "#Let's create a map centered around Canada and play with the zoom level to see how it affects the rendered map.\n",
        "\n",
        "lat = 56.130\n",
        "longi = -106.35\n",
        "can_map = folium.Map(location=[lat,longi],zoom_start=6)\n",
        "can_map"
      ],
      "metadata": {
        "id": "i7wuaDNEjjCh"
      },
      "execution_count": 7,
      "outputs": []
    },
    {
      "cell_type": "code",
      "source": [
        "#with zoom start = 4\n",
        "lat = 56.130\n",
        "longi = -106.35\n",
        "can_map = folium.Map(location=[lat,longi],zoom_start=4)\n",
        "can_map"
      ],
      "metadata": {
        "id": "S1QMm7TIkFSX"
      },
      "execution_count": 6,
      "outputs": []
    },
    {
      "cell_type": "markdown",
      "source": [
        "##A. Cartodb dark_matter Maps\n",
        "These are high-contrast B+W (black and white) maps. They are perfect for data mashups and exploring river meanders and coastal zones."
      ],
      "metadata": {
        "id": "ULhm0t4Wkisj"
      }
    },
    {
      "cell_type": "code",
      "source": [
        "map2 = folium.Map(location=[lat,longi],zoom_start=4,tiles='Cartodb dark_matter')\n",
        "map2"
      ],
      "metadata": {
        "id": "cjCxM-_1keON"
      },
      "execution_count": 5,
      "outputs": []
    },
    {
      "cell_type": "markdown",
      "source": [
        "## B. Cartodb positron Maps\n",
        "CartoDB Positron maps are designed with a light and minimalistic aesthetic. They have a white or light-colored background and feature simple, clean lines for map elements. These maps are known for their modern and visually appealing design."
      ],
      "metadata": {
        "id": "9Z1pd0A-k8JR"
      }
    },
    {
      "cell_type": "code",
      "source": [
        "map2 = folium.Map(location=[lat,longi],zoom_start=4,tiles='Cartodb positron')\n",
        "map2"
      ],
      "metadata": {
        "id": "k5Df_li0k5aj"
      },
      "execution_count": 4,
      "outputs": []
    },
    {
      "cell_type": "markdown",
      "source": [
        "## Maps with Markers ¶\n",
        "Let's download and import the data on police department incidents using pandas read_csv() method.\n",
        "\n",
        "\n",
        "\n",
        "Download the dataset and read it into a pandas dataframe:"
      ],
      "metadata": {
        "id": "yQEFQZJCl_4S"
      }
    },
    {
      "cell_type": "code",
      "source": [
        "df_incidents = pd.read_csv('https://cf-courses-data.s3.us.cloud-object-storage.appdomain.cloud/IBMDeveloperSkillsNetwork-DV0101EN-SkillsNetwork/Data%20Files/Police_Department_Incidents_-_Previous_Year__2016_.csv')\n",
        "\n",
        "print('Dataset downloaded and read into a pandas dataframe!')"
      ],
      "metadata": {
        "colab": {
          "base_uri": "https://localhost:8080/"
        },
        "id": "H7xBbcQTlIsd",
        "outputId": "4dcc6aaa-aa38-4a44-c7b5-29143faab55c"
      },
      "execution_count": 9,
      "outputs": [
        {
          "output_type": "stream",
          "name": "stdout",
          "text": [
            "Dataset downloaded and read into a pandas dataframe!\n"
          ]
        }
      ]
    },
    {
      "cell_type": "markdown",
      "source": [
        "So each row consists of 13 features:\n",
        "> 1. **IncidntNum**: Incident Number\n",
        "> 2. **Category**: Category of crime or incident\n",
        "> 3. **Descript**: Description of the crime or incident\n",
        "> 4. **DayOfWeek**: The day of week on which the incident occurred\n",
        "> 5. **Date**: The Date on which the incident occurred\n",
        "> 6. **Time**: The time of day on which the incident occurred\n",
        "> 7. **PdDistrict**: The police department district\n",
        "> 8. **Resolution**: The resolution of the crime in terms whether the perpetrator was arrested or not\n",
        "> 9. **Address**: The closest address to where the incident took place\n",
        "> 10. **X**: The longitude value of the crime location\n",
        "> 11. **Y**: The latitude value of the crime location\n",
        "> 12. **Location**: A tuple of the latitude and the longitude values\n",
        "> 13. **PdId**: The police department ID\n"
      ],
      "metadata": {
        "id": "PTUfDYgMmRfF"
      }
    },
    {
      "cell_type": "code",
      "source": [
        "df_incidents.shape"
      ],
      "metadata": {
        "colab": {
          "base_uri": "https://localhost:8080/"
        },
        "id": "xeSNrUOUmNpL",
        "outputId": "9baca212-9050-4607-b54e-16639f9c4ef1"
      },
      "execution_count": 10,
      "outputs": [
        {
          "output_type": "execute_result",
          "data": {
            "text/plain": [
              "(150500, 13)"
            ]
          },
          "metadata": {},
          "execution_count": 10
        }
      ]
    },
    {
      "cell_type": "markdown",
      "source": [
        "So the dataframe consists of 150,500 crimes, which took place in the year 2016. In order to reduce computational cost, let's just work with the first 100 incidents in this dataset."
      ],
      "metadata": {
        "id": "hO-C6zZZmdlz"
      }
    },
    {
      "cell_type": "code",
      "source": [
        "# get the first 100 crimes in the df_incidents dataframe\n",
        "limit = 100\n",
        "df_incidents = df_incidents.iloc[0:limit, :]"
      ],
      "metadata": {
        "id": "Q2qmnhhTmbIV"
      },
      "execution_count": 11,
      "outputs": []
    },
    {
      "cell_type": "code",
      "source": [
        "# San Francisco latitude and longitude values\n",
        "latitude = 37.77\n",
        "longitude = -122.42"
      ],
      "metadata": {
        "id": "PUTb5Qg9mjTJ"
      },
      "execution_count": 12,
      "outputs": []
    },
    {
      "cell_type": "code",
      "source": [
        "# create map and display it\n",
        "sanfran_map = folium.Map(location=[latitude, longitude], zoom_start=12)\n",
        "\n",
        "# display the map of San Francisco\n",
        "sanfran_map"
      ],
      "metadata": {
        "id": "z5t74bh0mmLv"
      },
      "execution_count": 3,
      "outputs": []
    },
    {
      "cell_type": "code",
      "source": [
        "#Now let's superimpose the locations of the crimes onto the map. The way to do that in Folium is to create a feature group with its own features and style and then add it to the sanfran_map.\n",
        "inc = folium.map.FeatureGroup()\n",
        "\n",
        "for lat,longi in zip(df_incidents.Y,df_incidents.X):\n",
        "  inc.add_child(\n",
        "      folium.vector_layers.CircleMarker(\n",
        "          [lat,longi],\n",
        "          radius=5,\n",
        "          color='yellow',\n",
        "          fill=True,\n",
        "          fill_color='blue',\n",
        "          fill_opacity=0.6\n",
        "      )\n",
        "  )\n",
        "\n",
        "sanfran_map.add_child(inc)"
      ],
      "metadata": {
        "id": "I_yc-qkSmone"
      },
      "execution_count": 2,
      "outputs": []
    },
    {
      "cell_type": "code",
      "source": [
        "#You can also add some pop-up text that would get displayed when you hover over a marker. Let's make each marker display the category of the crime when hovered over.\n",
        "\n",
        "inc = folium.map.FeatureGroup()\n",
        "\n",
        "for lat,longi in zip(df_incidents.Y,df_incidents.X):\n",
        "  inc.add_child(\n",
        "      folium.vector_layers.CircleMarker(\n",
        "          [lat,longi],\n",
        "          radius=5,\n",
        "          color='yellow',\n",
        "          fill=True,\n",
        "          fill_color='blue',\n",
        "          fill_opacity = 0.6\n",
        "\n",
        "      )\n",
        "  )\n",
        "\n",
        "latitude = list(df_incidents.Y)\n",
        "longitude = list(df_incidents.X)\n",
        "labels =list(df_incidents.Category)\n",
        "\n",
        "for lat,lon,label in zip(latitude,longitude,labels):\n",
        "  folium.Marker([lat,lon],popup=label).add_to(sanfran_map)\n",
        "\n",
        "sanfran_map.add_child(inc)\n",
        "sanfran_map"
      ],
      "metadata": {
        "id": "GgFTu6_-oXsi"
      },
      "execution_count": 1,
      "outputs": []
    },
    {
      "cell_type": "code",
      "source": [
        "#Another tichnique\n",
        "\n",
        "# create map and display it\n",
        "sanfran_map = folium.Map(location=[latitude, longitude], zoom_start=12)\n",
        "\n",
        "# loop through the 100 crimes and add each to the map\n",
        "for lat, lng, label in zip(df_incidents.Y, df_incidents.X, df_incidents.Category):\n",
        "    folium.vector_layers.CircleMarker(\n",
        "        [lat, lng],\n",
        "        radius=5, # define how big you want the circle markers to be\n",
        "        color='yellow',\n",
        "        fill=True,\n",
        "        popup=label,\n",
        "        fill_color='blue',\n",
        "        fill_opacity=0.6\n",
        "    ).add_to(sanfran_map)\n",
        "\n",
        "# show map\n",
        "sanfran_map\n"
      ],
      "metadata": {
        "id": "cd0WzanCph8J"
      },
      "execution_count": null,
      "outputs": []
    },
    {
      "cell_type": "markdown",
      "source": [
        "# The other proper remedy is to group the markers into different clusters. Each cluster is then represented by the number of crimes in each neighborhood. These clusters can be thought of as pockets of San Francisco which you can then analyze separately.\n",
        "\n",
        "To implement this, we start off by instantiating a MarkerCluster object and adding all the data points in the dataframe to this object."
      ],
      "metadata": {
        "id": "1tphfM0frxE1"
      }
    },
    {
      "cell_type": "code",
      "source": [
        "from folium import plugins\n",
        "\n",
        "# let's start again with a clean copy of the map of San Francisco\n",
        "sanfran_map = folium.Map(location = [latitude, longitude], zoom_start = 12)\n",
        "\n",
        "# instantiate a mark cluster object for the incidents in the dataframe\n",
        "incidents = plugins.MarkerCluster().add_to(sanfran_map)\n",
        "\n",
        "# loop through the dataframe and add each data point to the mark cluster\n",
        "for lat, lng, label, in zip(df_incidents.Y, df_incidents.X, df_incidents.Category):\n",
        "    folium.Marker(\n",
        "        location=[lat, lng],\n",
        "        icon=None,\n",
        "        popup=label,\n",
        "    ).add_to(incidents)\n",
        "\n",
        "# display map\n",
        "sanfran_map"
      ],
      "metadata": {
        "id": "W4syorwDru7C"
      },
      "execution_count": null,
      "outputs": []
    },
    {
      "cell_type": "markdown",
      "source": [
        "# Choropleth Maps <a id=\"8\"></a>\n",
        "\n",
        "A `Choropleth` map is a thematic map in which areas are shaded or patterned in proportion to the measurement of the statistical variable being displayed on the map, such as population density or per-capita income. The choropleth map provides an easy way to visualize how a measurement varies across a geographic area, or it shows the level of variability within a region. Below is a `Choropleth` map of the US depicting the population by square mile per state.\n",
        "\n",
        "<img src=\"https://cf-courses-data.s3.us.cloud-object-storage.appdomain.cloud/IBMDeveloperSkillsNetwork-DV0101EN-SkillsNetwork/labs/Module%205/images/2000_census_population_density_map_by_state.png\" width=\"600\">\n"
      ],
      "metadata": {
        "id": "goFiOUVqsC1e"
      }
    },
    {
      "cell_type": "code",
      "source": [
        "df_can = pd.read_csv('https://cf-courses-data.s3.us.cloud-object-storage.appdomain.cloud/IBMDeveloperSkillsNetwork-DV0101EN-SkillsNetwork/Data%20Files/Canada.csv')\n",
        "\n",
        "print('Data downloaded and read into a dataframe!')"
      ],
      "metadata": {
        "id": "KJoZaaOnr13i"
      },
      "execution_count": null,
      "outputs": []
    },
    {
      "cell_type": "code",
      "source": [
        "# download countries geojson file\n",
        "! wget --quiet https://cf-courses-data.s3.us.cloud-object-storage.appdomain.cloud/IBMDeveloperSkillsNetwork-DV0101EN-SkillsNetwork/Data%20Files/world_countries.json\n",
        "\n",
        "print('GeoJSON file downloaded!')"
      ],
      "metadata": {
        "id": "WS05xXqTsJWO"
      },
      "execution_count": null,
      "outputs": []
    },
    {
      "cell_type": "code",
      "source": [
        "world_geo = r'https://cf-courses-data.s3.us.cloud-object-storage.appdomain.cloud/IBMDeveloperSkillsNetwork-DV0101EN-SkillsNetwork/Data%20Files/world_countries.json' # geojson file\n",
        "\n",
        "# create a plain world map\n",
        "world_map = folium.Map(location=[0, 0], zoom_start=2)"
      ],
      "metadata": {
        "id": "cPSjbyDesMJv"
      },
      "execution_count": null,
      "outputs": []
    },
    {
      "cell_type": "markdown",
      "source": [
        "And now to create a `Choropleth` map, we will use the *choropleth* method with the following main parameters:\n",
        "\n",
        "1. `geo_data`, which is the GeoJSON file.\n",
        "2. `data`, which is the dataframe containing the data.\n",
        "3. `columns`, which represents the columns in the dataframe that will be used to create the `Choropleth` map.\n",
        "4. `key_on`, which is the key or variable in the GeoJSON file that contains the name of the variable of interest. To determine that, you will need to open the GeoJSON file using any text editor and note the name of the key or variable that contains the name of the countries, since the countries are our variable of interest. In this case, **name** is the key in the GeoJSON file that contains the name of the countries. Note that this key is case_sensitive, so you need to pass exactly as it exists in the GeoJSON file."
      ],
      "metadata": {
        "id": "kbUDCmttsOOf"
      }
    },
    {
      "cell_type": "code",
      "source": [
        "# generate choropleth map using the total immigration of each country to Canada from 1980 to 2013\n",
        "world_map.choropleth(\n",
        "    geo_data=world_geo,\n",
        "    data=df_can,\n",
        "    columns=['Country', 'Total'],\n",
        "    key_on='feature.properties.name',\n",
        "    fill_color='YlOrRd',\n",
        "    fill_opacity=0.7,\n",
        "    line_opacity=0.2,\n",
        "    legend_name='Immigration to Canada',\n",
        "    reset=True\n",
        ")\n",
        "\n",
        "# display map\n",
        "world_map"
      ],
      "metadata": {
        "id": "rWIDQrB6sObc"
      },
      "execution_count": null,
      "outputs": []
    },
    {
      "cell_type": "code",
      "source": [],
      "metadata": {
        "id": "a-7GHTPIsOjb"
      },
      "execution_count": null,
      "outputs": []
    }
  ]
}